{
 "cells": [
  {
   "cell_type": "markdown",
   "id": "d0904672-e7df-467d-becc-0e939218a9e3",
   "metadata": {},
   "source": [
    "# Emigrant residence calculator"
   ]
  },
  {
   "cell_type": "markdown",
   "id": "032fbd46-fd59-4eb7-af45-d5971265663e",
   "metadata": {},
   "source": [
    "**This is a simple jupyter notebook to calculate number of days residented in the country, excluding all the days spent outside the country. You will need this value when filling the form for extending you residence permit. Just update this notebook with actual dates**"
   ]
  },
  {
   "cell_type": "code",
   "execution_count": 1,
   "id": "dabedfc5-cb68-453d-8439-d80b08e8098b",
   "metadata": {},
   "outputs": [],
   "source": [
    "from datetime import datetime as dt"
   ]
  },
  {
   "cell_type": "code",
   "execution_count": 2,
   "id": "41e3582b-c440-48a9-839d-8b811f650f79",
   "metadata": {},
   "outputs": [],
   "source": [
    "START_DATE = \"2023-05-25\"  # change this value to the date when you have got your previous residence permit in YYYY-MM-DD format"
   ]
  },
  {
   "cell_type": "code",
   "execution_count": 3,
   "id": "aa6ce42e-12de-4aaa-81d4-af56e4d402d2",
   "metadata": {},
   "outputs": [],
   "source": [
    "trips = [(\"2023-06-01\", \"2023-06-10\"), (\"2023-08-07\", \"2023-08-19\")] #this list contains python tuples with start date and last date of your trips outside the country in YYYY-MM-DD format "
   ]
  },
  {
   "cell_type": "code",
   "execution_count": 4,
   "id": "7101e1f8-1a1e-485f-9adf-dbd0d4555f7e",
   "metadata": {},
   "outputs": [],
   "source": [
    "trips_durations = [dt.strptime(x[1], \"%Y-%m-%d\") - dt.strptime(x[0], \"%Y-%m-%d\") for x in trips]"
   ]
  },
  {
   "cell_type": "code",
   "execution_count": 5,
   "id": "86dc9c81-be56-45d0-8c41-d6dda28d40cd",
   "metadata": {},
   "outputs": [],
   "source": [
    "overall_trips_duration = sum(trip.days for trip in trips_durations)"
   ]
  },
  {
   "cell_type": "code",
   "execution_count": 6,
   "id": "ed614474-70a0-4936-92c7-7df458e4b0b1",
   "metadata": {},
   "outputs": [],
   "source": [
    "residence_duration = dt.now() - dt.strptime(START_DATE, \"%Y-%m-%d\")"
   ]
  },
  {
   "cell_type": "code",
   "execution_count": 7,
   "id": "50cad5e9-8797-439b-a03e-d1cae448bff5",
   "metadata": {},
   "outputs": [
    {
     "name": "stdout",
     "output_type": "stream",
     "text": [
      "Your residence duration this time is 259 days\n"
     ]
    }
   ],
   "source": [
    "print(f\"Your residence duration this time is {residence_duration.days - overall_trips_duration} days\")"
   ]
  },
  {
   "cell_type": "code",
   "execution_count": null,
   "id": "baf49272-9461-410d-962e-e920a4135115",
   "metadata": {},
   "outputs": [],
   "source": []
  }
 ],
 "metadata": {
  "kernelspec": {
   "display_name": "Python 3 (ipykernel)",
   "language": "python",
   "name": "python3"
  },
  "language_info": {
   "codemirror_mode": {
    "name": "ipython",
    "version": 3
   },
   "file_extension": ".py",
   "mimetype": "text/x-python",
   "name": "python",
   "nbconvert_exporter": "python",
   "pygments_lexer": "ipython3",
   "version": "3.11.6"
  }
 },
 "nbformat": 4,
 "nbformat_minor": 5
}
